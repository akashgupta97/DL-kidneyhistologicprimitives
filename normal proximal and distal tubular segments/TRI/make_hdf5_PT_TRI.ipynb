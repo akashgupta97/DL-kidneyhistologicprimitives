{
 "cells": [
  {
   "cell_type": "code",
   "execution_count": 1,
   "metadata": {
    "lines_to_next_cell": 2
   },
   "outputs": [],
   "source": [
    "#v2\n",
    "#7/11/2018\n",
    "\n",
    "dataname=\"tri-normal-proximal-tubules-10X\"\n",
    "\n",
    "patch_size=256 #size of the tiles to extract and save in the database, must be >= to training size\n",
    "stride_size=64 #distance to skip between patches, 1 indicated pixel wise extraction, patch_size would result in non-overlapping tiles\n",
    "mirror_pad_size=128 # number of pixels to pad *after* resize to image with by mirroring (edge's of patches tend not to be analyzed well, so padding allows them to appear more centered in the patch)\n",
    "test_set_size=.1 # what percentage of the dataset should be used as a held out validation/testing set\n",
    "resize=.25 #resize input images (0.125*40 = 5X, 0.15*40 = 6X, )\n",
    "classes=[0,1] #what classes we expect to have in the data, here we have only 2 classes but we could add additional classes and/or specify an index from which we would like to ignore\n",
    "\n",
    "#-----Note---\n",
    "#One should likely make sure that  (nrow+mirror_pad_size) mod patch_size == 0, where nrow is the number of rows after resizing\n",
    "#so that no pixels are lost (any remainer is ignored)\n"
   ]
  },
  {
   "cell_type": "code",
   "execution_count": 2,
   "metadata": {},
   "outputs": [
    {
     "name": "stdout",
     "output_type": "stream",
     "text": [
      "random seed (note down for reproducibility): 8377657792332858682\n"
     ]
    }
   ],
   "source": [
    "import torch\n",
    "import tables\n",
    "\n",
    "import os,sys\n",
    "import glob\n",
    "\n",
    "import PIL\n",
    "import numpy as np\n",
    "\n",
    "import cv2\n",
    "import matplotlib.pyplot as plt\n",
    "\n",
    "from sklearn import model_selection\n",
    "import sklearn.feature_extraction.image\n",
    "import random\n",
    "\n",
    "\n",
    "seed = random.randrange(sys.maxsize) #get a random seed so that we can reproducibly do the cross validation setup\n",
    "random.seed(seed) # set the seed\n",
    "print(f\"random seed (note down for reproducibility): {seed}\")"
   ]
  },
  {
   "cell_type": "code",
   "execution_count": 3,
   "metadata": {},
   "outputs": [],
   "source": [
    "img_dtype = tables.UInt8Atom()  # dtype in which the images will be saved, this indicates that images will be saved as unsigned int 8 bit, i.e., [0,255]\n",
    "filenameAtom = tables.StringAtom(itemsize=255) #create an atom to store the filename of the image, just incase we need it later, "
   ]
  },
  {
   "cell_type": "code",
   "execution_count": 4,
   "metadata": {},
   "outputs": [],
   "source": [
    "files=glob.glob('./training-set/*_mask_proximal.png') # create a list of the files, in this case we're only interested in files which have masks so we can use supervised learning"
   ]
  },
  {
   "cell_type": "code",
   "execution_count": 5,
   "metadata": {},
   "outputs": [
    {
     "name": "stdout",
     "output_type": "stream",
     "text": [
      "['11_26609_098_003', '12_26609_026_504', '12_26609_028_513', '13_26609_029_103', '11_26609_000_505', '10_26609_028_501', '10-26609-024-002', '13_26609_024_025', '12_26609_21_508', '10_26609_023_502', '12_26609_024_502', '12-26609-027-015', '12_26609_096_002', '12_26609_029_509', '12_26609_025_510', '11_26609_020_008', '12_26609_029_511', '11_26609_023_506', '11_26609_000_013', '13_26609_030_010', '12_26609_033_509', '13_26609_028_524', '13_26609_032_008', '12_26609_096_003', '12_26609_032_002', '11_26609_028_508', '10-26609-027-002', '12_26609_099_008', '11_26609_023_510', '13_26609_001_505', '12_26609_027_513', '13_26609_029_104', '13_26609_027_521', '13_26609_031_006', '11_26609_025_507', '12_26609_027_511', '13_26609_027_025', '12_26609_025_511', '11_26609_029_506', '11_26609_025_506', '12_26609_029_508', '13_26609_001_013', '12_26609_033_504', '11_26609_009_012', '11_26609_023_507', '13_26609_029_514', '12_26609_020_013', '11_26609_000_503', '11_26609_029_006', '11_26609_025_503', '12_26609_033_514', '13_26609_032_006', '11_26609_000_502', '12_26609_021_507', '12_26609_024_019', '11_26609_000_012']\n",
      "56\n"
     ]
    }
   ],
   "source": [
    "# Extract patient id from biopsyid (pid)\n",
    "pids=list(set([\"_\".join(os.path.basename(f).split(\".\")[0].split(\" \")[0].split(\"_\")[0:4]) for f in files]))\n",
    "print (pids)\n",
    "print(len(pids))"
   ]
  },
  {
   "cell_type": "code",
   "execution_count": 6,
   "metadata": {},
   "outputs": [],
   "source": [
    "#create training and validation stages and split the files appropriately between them\n",
    "phases={}\n",
    "phases[\"train\"],phases[\"val\"]=next(iter(model_selection.ShuffleSplit(n_splits=1,test_size=test_set_size).split(pids)))\n",
    "\n",
    "#specify that we'll be saving 2 different image types to the database, an image and its associated masked\n",
    "imgtypes=[\"img\",\"mask\"]"
   ]
  },
  {
   "cell_type": "code",
   "execution_count": 7,
   "metadata": {
    "scrolled": true
   },
   "outputs": [
    {
     "name": "stdout",
     "output_type": "stream",
     "text": [
      "train\n",
      "filename:  ./training-set/11_26609_025_503 L6 TRI 4_mask_proximal.png\n"
     ]
    },
    {
     "name": "stderr",
     "output_type": "stream",
     "text": [
      "/usr/local/lib/python3.6/dist-packages/sklearn/utils/deprecation.py:87: FutureWarning: Function extract_patches is deprecated; The function feature_extraction.image.extract_patches has been deprecated in 0.22 and will be removed in 0.24.\n",
      "  warnings.warn(msg, category=FutureWarning)\n"
     ]
    },
    {
     "name": "stdout",
     "output_type": "stream",
     "text": [
      "filename:  ./training-set/12_26609_027_511 L03 TRI 1_mask_proximal.png\n",
      "filename:  ./training-set/12_26609_096_003 L11 TRI 2_mask_proximal.png\n",
      "filename:  ./training-set/11_26609_023_506 L3 TRI 2_mask_proximal.png\n",
      "filename:  ./training-set/12_26609_027_513_L3_TRI 4_mask_proximal.png\n",
      "filename:  ./training-set/12_26609_027_513_L3_TRI 1_mask_proximal.png\n",
      "filename:  ./training-set/10-26609-027-002 TRI-3 6_mask_proximal.png\n",
      "filename:  ./training-set/10-26609-027-002 TRI-3 5_mask_proximal.png\n",
      "filename:  ./training-set/10-26609-027-002 TRI-3 2_mask_proximal.png\n",
      "filename:  ./training-set/10-26609-027-002 TRI-3 1_mask_proximal.png\n",
      "filename:  ./training-set/10-26609-027-002 TRI-3 4_mask_proximal.png\n",
      "filename:  ./training-set/10_26609_023_502 L10 TRI 1_mask_proximal.png\n",
      "filename:  ./training-set/10_26609_028_501  L2 TRI 4_mask_proximal.png\n",
      "filename:  ./training-set/11_26609_025_507 L6 TRI 3_mask_proximal.png\n",
      "filename:  ./training-set/12_26609_025_510 L06 TRI 2_mask_proximal.png\n",
      "filename:  ./training-set/13_26609_031_006 L03 TRI 1_mask_proximal.png\n",
      "filename:  ./training-set/11_26609_025_506 L6 TRI 4_mask_proximal.png\n",
      "filename:  ./training-set/12_26609_024_502 L5 TRI 7_mask_proximal.png\n",
      "filename:  ./training-set/13_26609_024_025 L05 TRI 2_mask_proximal.png\n",
      "filename:  ./training-set/12_26609_032_002 L09 TRI 1_mask_proximal.png\n",
      "filename:  ./training-set/11_26609_000_503_L2_TRI 1_mask_proximal.png\n",
      "filename:  ./training-set/12_26609_024_019 L5 TRI 3_mask_proximal.png\n",
      "filename:  ./training-set/12_26609_024_019 L5 TRI 1_mask_proximal.png\n",
      "filename:  ./training-set/12_26609_024_019 L5 TRI 2_mask_proximal.png\n",
      "filename:  ./training-set/11_26609_023_507 L4 TRI 2_mask_proximal.png\n",
      "filename:  ./training-set/12_26609_021_507 L03 TRI 1_mask_proximal.png\n",
      "filename:  ./training-set/13_26609_032_008 L09 TRI 1_mask_proximal.png\n",
      "filename:  ./training-set/12_26609_029_509 L14 TRI 2_mask_proximal.png\n",
      "filename:  ./training-set/12_26609_029_509 L14 TRI 1_mask_proximal.png\n",
      "filename:  ./training-set/13_26609_029_104 L07 TRI 1_mask_proximal.png\n",
      "filename:  ./training-set/11_26609_098_003_LM.Tri 1_mask_proximal.png\n",
      "filename:  ./training-set/11_26609_000_013_L02 TRI 1_mask_proximal.png\n",
      "filename:  ./training-set/12_26609_033_504 L08 TRI 2_mask_proximal.png\n",
      "filename:  ./training-set/12_26609_033_514 LUNK TRI 1_mask_proximal.png\n",
      "filename:  ./training-set/12_26609_029_508 L04 TRI 1_mask_proximal.png\n",
      "filename:  ./training-set/13_26609_027_521  L02 TRI 2_mask_proximal.png\n",
      "filename:  ./training-set/13_26609_028_524 L07 TRI 1_mask_proximal.png\n",
      "filename:  ./training-set/13_26609_001_505 LUNK4 TRI 1_mask_proximal.png\n",
      "filename:  ./training-set/12_26609_033_509 LUNK TRI 1_mask_proximal.png\n",
      "filename:  ./training-set/11_26609_000_012_L02_TRI 3_mask_proximal.png\n",
      "filename:  ./training-set/12_26609_099_008 L10 TRI 2_mask_proximal.png\n",
      "filename:  ./training-set/12_26609_026_504 L09 TRI 1_mask_proximal.png\n",
      "filename:  ./training-set/12_26609_21_508 L3 TRI 1_mask_proximal.png\n",
      "filename:  ./training-set/12-26609-027-015 L03 TRI 3_mask_proximal.png\n",
      "filename:  ./training-set/12-26609-027-015 L03 TRI 4_mask_proximal.png\n",
      "filename:  ./training-set/12-26609-027-015 L03 TRI 2_mask_proximal.png\n",
      "filename:  ./training-set/11_26609_029_506 L4 TRI 1_mask_proximal.png\n",
      "filename:  ./training-set/13_26609_030_010 L05 TRI 1_mask_proximal.png\n",
      "filename:  ./training-set/13_26609_029_103 LUNK TRI 1_mask_proximal.png\n",
      "filename:  ./training-set/11_26609_023_510 L4 TRI 5_mask_proximal.png\n",
      "filename:  ./training-set/11_26609_020_008 L05 A1 TRI 2_mask_proximal.png\n",
      "filename:  ./training-set/11_26609_020_008 L05 A1 TRI 1_mask_proximal.png\n",
      "filename:  ./training-set/12_26609_029_511 L14 TRI 1_mask_proximal.png\n",
      "filename:  ./training-set/13_26609_001_013 LUNK1 TRI 1_mask_proximal.png\n",
      "filename:  ./training-set/13_26609_029_514 L04 TRI 1_mask_proximal.png\n",
      "filename:  ./training-set/12_26609_096_002 L11 TRI 2_mask_proximal.png\n",
      "filename:  ./training-set/12_26609_020_013 L05 A1 TRI 1_mask_proximal.png\n",
      "filename:  ./training-set/12_26609_020_013 L05 A1 TRI 2_mask_proximal.png\n",
      "filename:  ./training-set/12_26609_028_513 LUNK TRI 1_mask_proximal.png\n",
      "filename:  ./training-set/11_26609_000_502_L2_TRI 3_mask_proximal.png\n",
      "filename:  ./training-set/13_26609_032_006 L07 TRI 1_mask_proximal.png\n",
      "filename:  ./training-set/11_26609_000_505_L2_TRI 1_mask_proximal.png\n",
      "done\n",
      "val\n",
      "filename:  ./training-set/10-26609-024-002.L8 TRI 1_mask_proximal.png\n",
      "filename:  ./training-set/11_26609_028_508 L15 TRI 5_mask_proximal.png\n",
      "filename:  ./training-set/12_26609_025_511 L06 TRI 3_mask_proximal.png\n",
      "filename:  ./training-set/11_26609_009_012 L10 TRI 3_mask_proximal.png\n",
      "filename:  ./training-set/13_26609_027_025  L03 TRI 1_mask_proximal.png\n",
      "filename:  ./training-set/11_26609_029_006 L3 TRI 10_mask_proximal.png\n",
      "done\n"
     ]
    }
   ],
   "source": [
    "storage={} #holder for future pytables\n",
    "\n",
    "block_shape={} #block shape specifies what we'll be saving into the pytable array, here we assume that masks are 1d and images are 3d\n",
    "block_shape[\"img\"]= np.array((patch_size,patch_size,3))\n",
    "block_shape[\"mask\"]= np.array((patch_size,patch_size)) \n",
    "\n",
    "filters=tables.Filters(complevel=6, complib='zlib') #we can also specify filters, such as compression, to improve storage speed\n",
    "\n",
    "for phase in phases.keys(): #now for each of the phases, we'll loop through the files\n",
    "    print(phase)\n",
    "    \n",
    "    totals=np.zeros((2,len(classes))) # we can to keep counts of all the classes in for in particular training, since we \n",
    "    totals[0,:]=classes               # can later use this information to create better weights\n",
    "\n",
    "    hdf5_file = tables.open_file(f\"./{dataname}_{phase}.pytable\", mode='w') #open the respective pytable\n",
    "    storage[\"filename\"] = hdf5_file.create_earray(hdf5_file.root, 'filename', filenameAtom, (0,)) #create the array for storage\n",
    "    \n",
    "    for imgtype in imgtypes: #for each of the image types, in this case mask and image, we need to create the associated earray\n",
    "        storage[imgtype]= hdf5_file.create_earray(hdf5_file.root, imgtype, img_dtype,  \n",
    "                                                  shape=np.append([0],block_shape[imgtype]), \n",
    "                                                  chunkshape=np.append([1],block_shape[imgtype]),\n",
    "                                                  filters=filters)\n",
    "    \n",
    "    for pidi in phases[phase]: #now for each of the files\n",
    "        pid=pids[pidi]    \n",
    "        \n",
    "        for fname in glob.glob(f'./training-set/{pid}*_mask_proximal.png'): \n",
    "            print(\"filename: \", fname)\n",
    "            \n",
    "            for imgtype in imgtypes:\n",
    "                if(imgtype==\"img\"): #if we're looking at an img, it must be 3 channel, but cv2 won't load it in the correct channel order, so we need to fix that\n",
    "                    io=cv2.cvtColor(cv2.imread(\"./training-set/\"+os.path.basename(fname).replace(\"_mask_proximal.png\",\".png\")),cv2.COLOR_BGR2RGB)\n",
    "                    interp_method=PIL.Image.BICUBIC\n",
    "                    \n",
    "                else: #if its a mask image, then we only need a single channel (since grayscale 3D images are equal in all channels)\n",
    "                    io=cv2.imread(fname)/255 #the image is loaded as {0,255}, but we'd like to store it as {0,1} since this represents the binary nature of the mask easier\n",
    "                    interp_method=PIL.Image.NEAREST #want to use nearest! otherwise resizing may cause non-existing classes to be produced via interpolation (e.g., \".25\")\n",
    "\n",
    "                    for i,key in enumerate(classes): #sum the number of pixels, this is done pre-resize, the but proportions don't change which is really what we're after\n",
    "                        totals[1,i]+=sum(sum(io[:,:,0]==key))\n",
    "                        \n",
    "                io = cv2.resize(io,(0,0),fx=resize,fy=resize, interpolation=interp_method) #resize it as specified above\n",
    "                io = np.pad(io, [(mirror_pad_size, mirror_pad_size), (mirror_pad_size, mirror_pad_size), (0, 0)], mode=\"reflect\")\n",
    "\n",
    "                #convert input image into overlapping tiles, size is ntiler x ntilec x 1 x patch_size x patch_size x3\n",
    "                io_arr_out=sklearn.feature_extraction.image.extract_patches(io,(patch_size,patch_size,3),stride_size)\n",
    "                             \n",
    "                #resize it into a ntile x patch_size x patch_size x 3\n",
    "                io_arr_out=io_arr_out.reshape(-1,patch_size,patch_size,3)\n",
    "\n",
    "                #save the 4D tensor to the table\n",
    "                if(imgtype==\"img\"):\n",
    "                    storage[imgtype].append(io_arr_out)\n",
    "                else:\n",
    "                    storage[imgtype].append(io_arr_out[:,:,:,0].squeeze()) #only need 1 channel for mask data\n",
    "\n",
    "            storage[\"filename\"].append([fname for x in range(io_arr_out.shape[0])]) #add the filename to the storage array\n",
    "        \n",
    "    #lastely, we should store the number of pixels\n",
    "    npixels=hdf5_file.create_carray(hdf5_file.root, 'numpixels', tables.Atom.from_dtype(totals.dtype), totals.shape)\n",
    "    npixels[:]=totals\n",
    "    hdf5_file.close()\n",
    "    print (\"done\")"
   ]
  },
  {
   "cell_type": "markdown",
   "metadata": {
    "lines_to_next_cell": 2
   },
   "source": [
    "useful reference\n",
    "http://machinelearninguru.com/deep_learning/data_preparation/hdf5/hdf5.html"
   ]
  },
  {
   "cell_type": "code",
   "execution_count": null,
   "metadata": {},
   "outputs": [],
   "source": []
  }
 ],
 "metadata": {
  "jupytext": {
   "formats": "ipynb,py:light"
  },
  "kernelspec": {
   "display_name": "Python 3",
   "language": "python",
   "name": "python3"
  },
  "language_info": {
   "codemirror_mode": {
    "name": "ipython",
    "version": 3
   },
   "file_extension": ".py",
   "mimetype": "text/x-python",
   "name": "python",
   "nbconvert_exporter": "python",
   "pygments_lexer": "ipython3",
   "version": "3.6.9"
  }
 },
 "nbformat": 4,
 "nbformat_minor": 4
}
